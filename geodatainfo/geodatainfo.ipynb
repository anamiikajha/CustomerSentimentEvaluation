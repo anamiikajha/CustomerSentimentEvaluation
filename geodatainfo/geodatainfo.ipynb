{
 "cells": [
  {
   "cell_type": "markdown",
   "metadata": {},
   "source": [
    "# Metadata fra Geodata-info.dk\n",
    "Denne notebook er tænkt til at hente data fra [geodata-info.dk](https://www.geodata-info.dk) (GDI) så egne geodata kan beriges udfra den nøgle (Identifikator) GDI tildeler deres datasæt. Det kræver således at man selv har tagget sine geodata med den nøglen og at disse kan udstilles, så data kan beriges med metadata. Vi arbejder med [Mapcentias GeoCloud2](http://www.mapcentia.com/dk/produkt/) som bruger [PostgreSQL](https://www.postgresql.org/), så derfor vil denne notebook være rettet mod at snakke med denne platform.\n",
    "    \n",
    "### Om Geodata-info.dk\n",
    "Geodata-info.dk er den danske geoportal, der gør det muligt for professionelle brugere samt borgere med interesse for geodata at søge efter geodatasæt og geodatatjenester. Geodata-info.dk omfatter desuden den danske søgetjeneste i henhold til INSPIRE-direktivet (Forordning nr. 976/2009 for så vidt angår nettjenesterne)."
   ]
  },
  {
   "cell_type": "code",
   "execution_count": null,
   "metadata": {},
   "outputs": [],
   "source": [
    "import requests\n",
    "import xml.etree.ElementTree as ET\n",
    "import json\n",
    "import sys\n",
    "import pandas as pd\n",
    "sys.path.append('/python/')\n",
    "import connections as con"
   ]
  },
  {
   "cell_type": "code",
   "execution_count": null,
   "metadata": {},
   "outputs": [],
   "source": [
    "class Geometadata:\n",
    "    \"\"\"\n",
    "    Henter metadata om tabeller fra geodata-info.dk\n",
    "    \"\"\"\n",
    "    def __init__(self):\n",
    "        self.fileIdentifier_path = \"gmd:fileIdentifier/gco:CharacterString\"\n",
    "        self.title_path = \"gmd:identificationInfo/gmd:MD_DataIdentification/gmd:citation/gmd:CI_Citation/gmd:title/gco:CharacterString\"\n",
    "        self.abstract_path = \"gmd:identificationInfo/gmd:MD_DataIdentification/gmd:abstract/gco:CharacterString\"\n",
    "        self.organisationName_path = \"gmd:contact/gmd:CI_ResponsibleParty/gmd:organisationName/gco:CharacterString\"\n",
    "    \n",
    "    def get_xml(self,  gid):\n",
    "        url = f\"https://geodata-info.dk/srv/api/records/{gid}/formatters/xml\"\n",
    "        r = requests.request(\"GET\", url)\n",
    "        root = ET.fromstring(r.text)\n",
    "        \n",
    "        return root\n",
    "    \n",
    "    def get_property(self, xml, xml_path):\n",
    "        \n",
    "        namespaces = {\n",
    "            'gmd': 'http://www.isotc211.org/2005/gmd',\n",
    "            'gco': 'http://www.isotc211.org/2005/gco'\n",
    "        }\n",
    "               \n",
    "        prop = xml.find(xml_path, namespaces)\n",
    "        \n",
    "        return prop.text\n",
    "        \n",
    "    def get_meta_data(self, gid, properties=['fileIdentifier', 'title', 'abstract', 'organisationName']):\n",
    "    \n",
    "        \"\"\"\n",
    "        Henter metadata udfra metadata id fra geodata-info.dk\n",
    "        fileIdentifier\n",
    "        title\n",
    "        abstract\n",
    "        organisationName  \n",
    "        \"\"\"\n",
    "        \n",
    "        root = self.get_xml(gid)\n",
    "        \n",
    "        props = {}\n",
    "\n",
    "        for prop in properties:\n",
    "            prop = str(prop).lower()\n",
    "            \n",
    "            if prop == \"fileidentifier\":\n",
    "                props.update({\"fileIdentifier\" : self.get_property(root, self.fileIdentifier_path)})\n",
    "            elif prop == \"title\":\n",
    "                props.update({\"title\" : self.get_property(root, self.title_path)})\n",
    "            elif prop == \"abstract\":\n",
    "                props.update({\"abstract\" : self.get_property(root, self.abstract_path)})\n",
    "            elif prop == \"organisationname\":\n",
    "                props.update({\"organisationName\" : self.get_property(root, self.organisationName_path)})\n",
    "                \n",
    "        return props"
   ]
  },
  {
   "cell_type": "markdown",
   "metadata": {},
   "source": [
    "# Berig tabeller med metadata fra Geodata-info"
   ]
  },
  {
   "cell_type": "code",
   "execution_count": null,
   "metadata": {},
   "outputs": [],
   "source": [
    "meta = Geometadata()"
   ]
  },
  {
   "cell_type": "code",
   "execution_count": null,
   "metadata": {},
   "outputs": [],
   "source": [
    "query = \"\"\"\n",
    "    select \"_key_\", RIGHT(value, length(value) - 5) id\n",
    "    from SETTINGS.GEOMETRY_COLUMNS_JOIN, jsonb_array_elements_text(tags)\n",
    "    where value like '_gdi:%%'\n",
    "\"\"\""
   ]
  },
  {
   "cell_type": "code",
   "execution_count": null,
   "metadata": {},
   "outputs": [],
   "source": [
    "df, engine = con.sql_to_dataframe('production', query)"
   ]
  },
  {
   "cell_type": "code",
   "execution_count": null,
   "metadata": {},
   "outputs": [],
   "source": [
    "properties=['title', 'abstract', 'organisationName']"
   ]
  },
  {
   "cell_type": "code",
   "execution_count": null,
   "metadata": {},
   "outputs": [],
   "source": [
    "df[properties] = df['id'].apply(lambda x: pd.Series(meta.get_meta_data(x, properties).values()))"
   ]
  },
  {
   "cell_type": "code",
   "execution_count": null,
   "metadata": {},
   "outputs": [],
   "source": [
    "df['title'] = df.title.apply(lambda x: list(x)[0]) \n",
    "df['abstract'] = df.abstract.apply(lambda x: list(x)[1]) \n",
    "df['organisationName'] = df.organisationName.apply(lambda x: list(x)[2]) "
   ]
  },
  {
   "cell_type": "markdown",
   "metadata": {},
   "source": [
    "# To PostgreSQL"
   ]
  },
  {
   "cell_type": "code",
   "execution_count": null,
   "metadata": {},
   "outputs": [],
   "source": [
    "df.to_sql('geodatainfo_meta')"
   ]
  },
  {
   "cell_type": "markdown",
   "metadata": {},
   "source": [
    "# Gammelt"
   ]
  },
  {
   "cell_type": "code",
   "execution_count": null,
   "metadata": {},
   "outputs": [],
   "source": [
    "def add_metadata(gid, properties, df):\n",
    "    \"\"\"\n",
    "    Add metadata columns to dataframe\n",
    "    \"\"\"\n",
    "    data = meta.get_meta_data(gid, properties)\n",
    "    print(data)\n",
    "   \n",
    "    for key in data:\n",
    "        #print(df[key], data[key])\n",
    "        df[key] = data[key]"
   ]
  },
  {
   "cell_type": "code",
   "execution_count": null,
   "metadata": {},
   "outputs": [],
   "source": [
    "url = \"https://geodata-info.dk/srv/api/records/fb9e06dc-9f02-42ac-bf1c-e0d662b81f4f/formatters/xml\"\n",
    "r = requests.request(\"GET\", url)"
   ]
  },
  {
   "cell_type": "code",
   "execution_count": null,
   "metadata": {},
   "outputs": [],
   "source": [
    "root = ET.fromstring(r.text)"
   ]
  },
  {
   "cell_type": "code",
   "execution_count": null,
   "metadata": {},
   "outputs": [],
   "source": []
  },
  {
   "cell_type": "code",
   "execution_count": null,
   "metadata": {},
   "outputs": [],
   "source": [
    "namespaces = {\n",
    "    'gmd': 'http://www.isotc211.org/2005/gmd',\n",
    "    'gco': 'http://www.isotc211.org/2005/gco'\n",
    "}"
   ]
  },
  {
   "cell_type": "code",
   "execution_count": null,
   "metadata": {},
   "outputs": [],
   "source": [
    "base = \"gmd:identificationInfo/gmd:MD_DataIdentification/\"\n",
    "abs_path = f\"{base}gmd:abstract/gco:CharacterString\""
   ]
  },
  {
   "cell_type": "code",
   "execution_count": null,
   "metadata": {},
   "outputs": [],
   "source": [
    "abs_path"
   ]
  },
  {
   "cell_type": "code",
   "execution_count": null,
   "metadata": {},
   "outputs": [],
   "source": [
    "abstact = root.find(path, namespaces)"
   ]
  },
  {
   "cell_type": "code",
   "execution_count": null,
   "metadata": {},
   "outputs": [],
   "source": [
    "abstact.text"
   ]
  },
  {
   "cell_type": "markdown",
   "metadata": {},
   "source": [
    "# HENT DATA WFS"
   ]
  },
  {
   "cell_type": "markdown",
   "metadata": {},
   "source": [
    "Tabelnavn (typename) fra WFS'er GC2 scheduler jobs udtrækkes"
   ]
  },
  {
   "cell_type": "code",
   "execution_count": null,
   "metadata": {},
   "outputs": [],
   "source": [
    "wfs = pd.read_csv('data/wfs.csv')"
   ]
  },
  {
   "cell_type": "code",
   "execution_count": null,
   "metadata": {},
   "outputs": [],
   "source": [
    "def typename(url):\n",
    "    for item in url.split('&'):\n",
    "        if item.split('=')[0].lower() == 'typename':\n",
    "            return (item.split('=')[1])"
   ]
  },
  {
   "cell_type": "code",
   "execution_count": null,
   "metadata": {},
   "outputs": [],
   "source": [
    "wfs['typename'] = wfs['url'].apply(lambda x: typename(x))"
   ]
  },
  {
   "cell_type": "code",
   "execution_count": null,
   "metadata": {},
   "outputs": [],
   "source": [
    "wfs.head()"
   ]
  },
  {
   "cell_type": "markdown",
   "metadata": {},
   "source": [
    "## FIND uuid for hver typename"
   ]
  },
  {
   "cell_type": "code",
   "execution_count": null,
   "metadata": {},
   "outputs": [],
   "source": [
    "def get_uuid(typename):\n",
    "    url = \"https://www.geodata-info.dk/srv/dan/q\"\n",
    "\n",
    "    querystring = {\n",
    "        \"_content_type\":\"json\",\n",
    "        \"any\":typename,\n",
    "        \"bucket\":\"s101\",\n",
    "        \"facet.q\":\"\",\n",
    "        \"fast\":\"index\",\n",
    "        \"from\":\"1\",\n",
    "        \"resultType\":\"details\",\n",
    "        \"sortBy\":\"relevance\",\n",
    "        \"to\":\"20\"\n",
    "    }\n",
    "\n",
    "    headers = {\n",
    "        'Cache-Control': \"no-cache\"\n",
    "        }\n",
    "\n",
    "    response = requests.request(\"GET\", url, headers=headers, params=querystring)\n",
    "    j = response.json()\n",
    "    \n",
    "    try:\n",
    "        return j['metadata']['geonet:info']['uuid']\n",
    "    except Exception as e:\n",
    "        print(e)"
   ]
  },
  {
   "cell_type": "code",
   "execution_count": null,
   "metadata": {},
   "outputs": [],
   "source": [
    "get_uuid('dmp:AA_BES_LINJER')"
   ]
  },
  {
   "cell_type": "code",
   "execution_count": null,
   "metadata": {},
   "outputs": [],
   "source": [
    "wfs['uuid'] = wfs.typename.apply(get_uuid)"
   ]
  },
  {
   "cell_type": "code",
   "execution_count": null,
   "metadata": {},
   "outputs": [],
   "source": [
    "wfs[wfs.uuid != 'None']"
   ]
  },
  {
   "cell_type": "code",
   "execution_count": null,
   "metadata": {},
   "outputs": [],
   "source": [
    "def get_uuid(typename):\n",
    "    url = \"https://www.geodata-info.dk/srv/dan/q\"\n",
    "\n",
    "    querystring = {\n",
    "        \"_content_type\":\"json\",\n",
    "        \"any\":typename,\n",
    "        \"bucket\":\"s101\",\n",
    "        \"facet.q\":\"\",\n",
    "        \"fast\":\"index\",\n",
    "        \"from\":\"1\",\n",
    "        \"resultType\":\"details\",\n",
    "        \"sortBy\":\"relevance\",\n",
    "        \"to\":\"20\"\n",
    "    }\n",
    "\n",
    "    headers = {\n",
    "        'Cache-Control': \"no-cache\"\n",
    "        }\n",
    "\n",
    "    response = requests.request(\"GET\", url, headers=headers, params=querystring)\n",
    "    j = response.json()\n",
    "    \n",
    "    return j"
   ]
  },
  {
   "cell_type": "code",
   "execution_count": null,
   "metadata": {},
   "outputs": [],
   "source": [
    "get_uuid('dmp:AA_BES_LINJER')"
   ]
  }
 ],
 "metadata": {
  "kernelspec": {
   "display_name": "Python 3",
   "language": "python",
   "name": "python3"
  },
  "language_info": {
   "codemirror_mode": {
    "name": "ipython",
    "version": 3
   },
   "file_extension": ".py",
   "mimetype": "text/x-python",
   "name": "python",
   "nbconvert_exporter": "python",
   "pygments_lexer": "ipython3",
   "version": "3.6.4"
  }
 },
 "nbformat": 4,
 "nbformat_minor": 2
}
